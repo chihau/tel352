{
  "nbformat": 4,
  "nbformat_minor": 0,
  "metadata": {
    "colab": {
      "name": "ConvertModel_Keras_to_tflite.ipynb",
      "provenance": []
    },
    "kernelspec": {
      "name": "python3",
      "display_name": "Python 3"
    }
  },
  "cells": [
    {
      "cell_type": "code",
      "metadata": {
        "id": "MAsDYleyJiDy"
      },
      "source": [
        "import tensorflow as tf\n"
      ],
      "execution_count": null,
      "outputs": []
    },
    {
      "cell_type": "code",
      "metadata": {
        "id": "_h1WEJ9FJlK_"
      },
      "source": [
        "from google.colab import files\n",
        "uploaded = files.upload()"
      ],
      "execution_count": null,
      "outputs": []
    },
    {
      "cell_type": "code",
      "metadata": {
        "id": "pc6HQcPjJm1Z"
      },
      "source": [
        "converter = tf.lite.TFLiteConverter.from_keras_model(tf.keras.models.load_model(\"my_model.h5\"))\n",
        "tflite_model = converter.convert()\n",
        "open(\"my_model.tflite\", \"wb\").write(tflite_model)"
      ],
      "execution_count": null,
      "outputs": []
    },
    {
      "cell_type": "code",
      "metadata": {
        "id": "g4pDvrssJ5LG"
      },
      "source": [
        "files.download(\"my_model.tflite\")"
      ],
      "execution_count": null,
      "outputs": []
    }
  ]
}