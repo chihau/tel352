{
  "nbformat": 4,
  "nbformat_minor": 0,
  "metadata": {
    "colab": {
      "name": "Python_tflite.ipynb",
      "provenance": []
    },
    "kernelspec": {
      "name": "python3",
      "display_name": "Python 3"
    }
  },
  "cells": [
    {
      "cell_type": "code",
      "source": [
        "from google.colab import files\n",
        "uploaded = files.upload()"
      ],
      "metadata": {
        "id": "vkMDClfgQvhS"
      },
      "execution_count": null,
      "outputs": []
    },
    {
      "cell_type": "code",
      "metadata": {
        "id": "flwystmfKv7r"
      },
      "source": [
        "import numpy as np\n",
        "import tensorflow as tf\n",
        "\n",
        "# Load TFLite model (Celsius to Fahrenheit) and allocate tensors.\n",
        "interpreter = tf.lite.Interpreter(model_path=\"my_model.tflite\")\n",
        "interpreter.allocate_tensors()\n",
        "\n",
        "# Get input and output tensors.\n",
        "input = interpreter.get_input_details()[0][\"index\"]\n",
        "output = interpreter.get_output_details()[0][\"index\"]\n",
        "\n",
        "interpreter.set_tensor(input, np.array([[100]], dtype=np.float32))\n",
        "\n",
        "interpreter.invoke()\n",
        "print(\"inference %s\" % interpreter.get_tensor(output))\n",
        "\n",
        "# Doc https://www.tensorflow.org/api_docs/python/tf/lite/Interpreter"
      ],
      "execution_count": null,
      "outputs": []
    }
  ]
}