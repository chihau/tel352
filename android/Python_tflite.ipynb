{
  "nbformat": 4,
  "nbformat_minor": 0,
  "metadata": {
    "colab": {
      "name": "Python_tflite.ipynb",
      "version": "0.3.2",
      "provenance": []
    },
    "kernelspec": {
      "name": "python3",
      "display_name": "Python 3"
    }
  },
  "cells": [
    {
      "cell_type": "code",
      "metadata": {
        "id": "flwystmfKv7r",
        "colab_type": "code",
        "colab": {}
      },
      "source": [
        "import numpy as np\n",
        "import tensorflow as tf\n",
        "\n",
        "# Load TFLite model (Celsius to Fahrenheit) and allocate tensors.\n",
        "interpreter = tf.lite.Interpreter(model_path=\"my_model.tflite\")\n",
        "interpreter.allocate_tensors()\n",
        "\n",
        "# Get input and output tensors.\n",
        "input_details = interpreter.get_input_details()\n",
        "output_details = interpreter.get_output_details()\n",
        "\n",
        "input = interpreter.tensor(input_details[0][\"index\"])\n",
        "output = interpreter.tensor(output_details[0][\"index\"])\n",
        "input().fill(100)\n",
        "\n",
        "interpreter.invoke()\n",
        "print(\"inference %s\" % output())\n",
        "\n",
        "# Doc https://www.tensorflow.org/api_docs/python/tf/lite/Interpreter\n"
      ],
      "execution_count": 0,
      "outputs": []
    }
  ]
}