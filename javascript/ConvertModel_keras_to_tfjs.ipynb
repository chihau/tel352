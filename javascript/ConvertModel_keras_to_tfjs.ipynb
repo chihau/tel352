{
  "nbformat": 4,
  "nbformat_minor": 0,
  "metadata": {
    "colab": {
      "name": "ConvertModel_keras_to_tfjs.ipynb",
      "version": "0.3.2",
      "provenance": []
    },
    "kernelspec": {
      "name": "python3",
      "display_name": "Python 3"
    }
  },
  "cells": [
    {
      "cell_type": "markdown",
      "metadata": {
        "id": "tkUr0roO380S",
        "colab_type": "text"
      },
      "source": [
        "Para guardar un modelo en Keras \n",
        "\n",
        "model.save('my_model.h5')\n",
        "\n"
      ]
    },
    {
      "cell_type": "code",
      "metadata": {
        "id": "qZnD3s6J2TbN",
        "colab_type": "code",
        "colab": {}
      },
      "source": [
        "!pip install tensorflowjs"
      ],
      "execution_count": 0,
      "outputs": []
    },
    {
      "cell_type": "markdown",
      "metadata": {
        "id": "3CCQywfe4S2M",
        "colab_type": "text"
      },
      "source": [
        "Antes de seguir recuerda presionar el botón RESTART RUNTIME"
      ]
    },
    {
      "cell_type": "code",
      "metadata": {
        "id": "HUAB4eye3gM4",
        "colab_type": "code",
        "colab": {}
      },
      "source": [
        "from google.colab import files\n",
        "uploaded = files.upload()"
      ],
      "execution_count": 0,
      "outputs": []
    },
    {
      "cell_type": "code",
      "metadata": {
        "id": "y9aU7cjr2fZW",
        "colab_type": "code",
        "colab": {}
      },
      "source": [
        "!mkdir tfjs_target_dir\n",
        "!tensorflowjs_converter --input_format keras \\\n",
        "                       my_model.h5 \\\n",
        "                       tfjs_target_dir"
      ],
      "execution_count": 0,
      "outputs": []
    },
    {
      "cell_type": "code",
      "metadata": {
        "id": "M1EpaXeb26PN",
        "colab_type": "code",
        "colab": {}
      },
      "source": [
        "!zip -r tfjs_target_dir.zip tfjs_target_dir"
      ],
      "execution_count": 0,
      "outputs": []
    },
    {
      "cell_type": "code",
      "metadata": {
        "id": "j_MFmLmc3DfW",
        "colab_type": "code",
        "colab": {}
      },
      "source": [
        "files.download(\"tfjs_target_dir.zip\")"
      ],
      "execution_count": 0,
      "outputs": []
    }
  ]
}